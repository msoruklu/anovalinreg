{
 "cells": [
  {
   "cell_type": "code",
   "execution_count": 18,
   "metadata": {},
   "outputs": [],
   "source": [
    "from scipy import stats\n",
    "from IPython.display import display\n",
    "import numpy as np\n",
    "import pandas as pd"
   ]
  },
  {
   "cell_type": "code",
   "execution_count": 19,
   "metadata": {},
   "outputs": [],
   "source": [
    "def ANOVA1_partition_TSS(data):\n",
    "    '''\n",
    "    This function partitions the sum of squares in a one way ANOVA layout.\n",
    "    The function takes a data set Xi,j for j = 1, . . . ,ni and i = 1, . . . , I, and return\n",
    "    SStotal, SSw, and SSb\n",
    "\n",
    "    SStotal = SSw + SSb.\n",
    "\n",
    "    '''\n",
    "    #calculate sum of squares within treatments\n",
    "    SSw = 0\n",
    "    for i in range(len(data)):\n",
    "        meanTreatment = np.mean(data[i]) #sample mean of a treatment\n",
    "        for j in range(len(data[i])):\n",
    "            SSw += (data[i][j] - meanTreatment)**2\n",
    "    \n",
    "    #calculate sum of squares between treatments\n",
    "    SSb = 0\n",
    "    meanSample = np.mean([np.mean(treat) for treat in data])\n",
    "    for i in range(len(data)):\n",
    "        meanTreatment = np.mean(data[i]) #sample mean of a treatment\n",
    "        SSb += (meanTreatment - meanSample)**2\n",
    "    \n",
    "    SStotal = SSw + SSb\n",
    "    \n",
    "    return {\"SStotal\":SStotal,\"SSw\": SSw,\"SSb\": SSb}"
   ]
  },
  {
   "cell_type": "code",
   "execution_count": 66,
   "metadata": {},
   "outputs": [],
   "source": [
    "def ANOVA1_test_equality(data,signifLevel = 0.05):\n",
    "    '''\n",
    "    This function tests the equality of the means in a one way ANOVA layout.\n",
    "    The input is a data set Xi,j for j = 1, . . . , ni and i = 1, . . . , I, and the significance\n",
    "    level α. As the output, the function prints all the quantities in the table as well as the critical value, \n",
    "    the p-value, and the decision.\n",
    "    '''\n",
    "    n = sum([len(x) for x in data]) #total number of points\n",
    "    \n",
    "    dofWithin = n-len(data) #degrees of fredom within groups\n",
    "    dofBetween = len(data)-1 #degrees of fredom between groups\n",
    "    \n",
    "    SStotal, SSw, SSb = ANOVA1_partition_TSS(data).values()\n",
    "    \n",
    "    msBetween = SSb / dofBetween\n",
    "    msWithin = SSw / dofWithin\n",
    "    \n",
    "    f_stats = msBetween / msWithin\n",
    "    crit = stats.f.ppf(q=1-signifLevel, dfn=dofBetween, dfd=dofWithin)\n",
    "    p_value = stats.f.cdf(f_stats, dfn=dofBetween, dfd=dofWithin)\n",
    "    \n",
    "    df_source = pd.DataFrame({\"df\":[dofBetween,dofWithin,dofBetween+dofWithin],\"SS\":[SSb,SSw,SStotal],\n",
    "                              \"MS\":[msBetween,msWithin,None],\"F\":[f_stats,None,None]},index=[\"SSb\",\"SSw\",\"SStotal\"])\n",
    "    display(df_source)\n",
    "    \n",
    "    print(\"\\nCritical value: {}\".format(crit))\n",
    "    print(\"p-value: {}\".format(p_value))\n",
    "    \n",
    "    decision = \"Reject the null hypothesis\"\n",
    "    if p_value<signifLevel:\n",
    "        decision = \"DONT Reject the null hypothesis\"\n",
    "    \n",
    "    print(\"Decision: {}, H0, at the {} level of significance.\".format(decision,signifLevel))\n"
   ]
  },
  {
   "cell_type": "code",
   "execution_count": 75,
   "metadata": {},
   "outputs": [],
   "source": [
    "data=[[28,23,14,27,31,24],\n",
    "      [33,36,34,29,24],\n",
    "      [18,21,20,22],\n",
    "      [11,14,11,16]]\n",
    "SStotal, SSw, SSb = ANOVA1_partition_TSS(data).values()"
   ]
  },
  {
   "cell_type": "code",
   "execution_count": 76,
   "metadata": {},
   "outputs": [
    {
     "data": {
      "text/html": [
       "<div>\n",
       "<style scoped>\n",
       "    .dataframe tbody tr th:only-of-type {\n",
       "        vertical-align: middle;\n",
       "    }\n",
       "\n",
       "    .dataframe tbody tr th {\n",
       "        vertical-align: top;\n",
       "    }\n",
       "\n",
       "    .dataframe thead th {\n",
       "        text-align: right;\n",
       "    }\n",
       "</style>\n",
       "<table border=\"1\" class=\"dataframe\">\n",
       "  <thead>\n",
       "    <tr style=\"text-align: right;\">\n",
       "      <th></th>\n",
       "      <th>df</th>\n",
       "      <th>SS</th>\n",
       "      <th>MS</th>\n",
       "      <th>F</th>\n",
       "    </tr>\n",
       "  </thead>\n",
       "  <tbody>\n",
       "    <tr>\n",
       "      <th>SSb</th>\n",
       "      <td>3</td>\n",
       "      <td>174.726875</td>\n",
       "      <td>58.242292</td>\n",
       "      <td>3.001664</td>\n",
       "    </tr>\n",
       "    <tr>\n",
       "      <th>SSw</th>\n",
       "      <td>15</td>\n",
       "      <td>291.050000</td>\n",
       "      <td>19.403333</td>\n",
       "      <td>NaN</td>\n",
       "    </tr>\n",
       "    <tr>\n",
       "      <th>SStotal</th>\n",
       "      <td>18</td>\n",
       "      <td>465.776875</td>\n",
       "      <td>NaN</td>\n",
       "      <td>NaN</td>\n",
       "    </tr>\n",
       "  </tbody>\n",
       "</table>\n",
       "</div>"
      ],
      "text/plain": [
       "         df          SS         MS         F\n",
       "SSb       3  174.726875  58.242292  3.001664\n",
       "SSw      15  291.050000  19.403333       NaN\n",
       "SStotal  18  465.776875        NaN       NaN"
      ]
     },
     "metadata": {},
     "output_type": "display_data"
    },
    {
     "name": "stdout",
     "output_type": "stream",
     "text": [
      "\n",
      "Critical value: 3.2873821046365115\n",
      "p-value: 0.9363073046018389\n",
      "Decision: Reject the null hypothesis, H0, at the 0.05 level of significance.\n"
     ]
    }
   ],
   "source": [
    "ANOVA1_test_equality(data)"
   ]
  },
  {
   "cell_type": "code",
   "execution_count": 65,
   "metadata": {},
   "outputs": [
    {
     "data": {
      "text/plain": [
       "0.9500000000000001"
      ]
     },
     "execution_count": 65,
     "metadata": {},
     "output_type": "execute_result"
    }
   ],
   "source": [
    "\n",
    "crit = 2.8450678052793514\n",
    "stats.f.cdf(crit, dfn=3, dfd=39)\n"
   ]
  },
  {
   "cell_type": "code",
   "execution_count": 39,
   "metadata": {},
   "outputs": [
    {
     "data": {
      "text/plain": [
       "2.8450678052793514"
      ]
     },
     "execution_count": 39,
     "metadata": {},
     "output_type": "execute_result"
    }
   ],
   "source": [
    "stats.f.ppf(q=1-0.05, dfn=3, dfd=39)"
   ]
  },
  {
   "cell_type": "code",
   "execution_count": null,
   "metadata": {},
   "outputs": [],
   "source": []
  }
 ],
 "metadata": {
  "kernelspec": {
   "display_name": "Python 3",
   "language": "python",
   "name": "python3"
  },
  "language_info": {
   "codemirror_mode": {
    "name": "ipython",
    "version": 3
   },
   "file_extension": ".py",
   "mimetype": "text/x-python",
   "name": "python",
   "nbconvert_exporter": "python",
   "pygments_lexer": "ipython3",
   "version": "3.8.5"
  }
 },
 "nbformat": 4,
 "nbformat_minor": 4
}
